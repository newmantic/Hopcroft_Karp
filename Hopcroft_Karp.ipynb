{
  "nbformat": 4,
  "nbformat_minor": 0,
  "metadata": {
    "colab": {
      "provenance": [],
      "authorship_tag": "ABX9TyPoRinyYYE8Fnzw3KlpdQ0h",
      "include_colab_link": true
    },
    "kernelspec": {
      "name": "python3",
      "display_name": "Python 3"
    },
    "language_info": {
      "name": "python"
    }
  },
  "cells": [
    {
      "cell_type": "markdown",
      "metadata": {
        "id": "view-in-github",
        "colab_type": "text"
      },
      "source": [
        "<a href=\"https://colab.research.google.com/github/newmantic/Hopcroft_Karp/blob/main/Hopcroft_Karp.ipynb\" target=\"_parent\"><img src=\"https://colab.research.google.com/assets/colab-badge.svg\" alt=\"Open In Colab\"/></a>"
      ]
    },
    {
      "cell_type": "code",
      "execution_count": 1,
      "metadata": {
        "id": "BTQhDs7wCzAW"
      },
      "outputs": [],
      "source": [
        "from collections import deque, defaultdict\n",
        "\n",
        "class BipartiteGraph:\n",
        "    def __init__(self, left_size, right_size):\n",
        "        self.left_size = left_size\n",
        "        self.right_size = right_size\n",
        "        self.graph = defaultdict(list)\n",
        "        self.pair_left = [-1] * left_size\n",
        "        self.pair_right = [-1] * right_size\n",
        "        self.dist = [-1] * left_size\n",
        "\n",
        "    def add_edge(self, u, v):\n",
        "        \"\"\"Adds an edge between vertex u in the left set and vertex v in the right set.\"\"\"\n",
        "        self.graph[u].append(v)\n",
        "\n",
        "    def bfs(self):\n",
        "        \"\"\"Performs a BFS to find an augmenting path.\"\"\"\n",
        "        queue = deque()\n",
        "        for u in range(self.left_size):\n",
        "            if self.pair_left[u] == -1:\n",
        "                self.dist[u] = 0\n",
        "                queue.append(u)\n",
        "            else:\n",
        "                self.dist[u] = float('inf')\n",
        "        found_augmenting_path = False\n",
        "        while queue:\n",
        "            u = queue.popleft()\n",
        "            if self.dist[u] < float('inf'):\n",
        "                for v in self.graph[u]:\n",
        "                    pair_v = self.pair_right[v]\n",
        "                    if pair_v == -1:\n",
        "                        found_augmenting_path = True\n",
        "                    elif self.dist[pair_v] == float('inf'):\n",
        "                        self.dist[pair_v] = self.dist[u] + 1\n",
        "                        queue.append(pair_v)\n",
        "        return found_augmenting_path\n",
        "\n",
        "    def dfs(self, u):\n",
        "        \"\"\"Performs a DFS to find an augmenting path and update the matching.\"\"\"\n",
        "        if u != -1:\n",
        "            for v in self.graph[u]:\n",
        "                pair_v = self.pair_right[v]\n",
        "                if pair_v == -1 or (self.dist[pair_v] == self.dist[u] + 1 and self.dfs(pair_v)):\n",
        "                    self.pair_left[u] = v\n",
        "                    self.pair_right[v] = u\n",
        "                    return True\n",
        "            self.dist[u] = float('inf')\n",
        "            return False\n",
        "        return True\n",
        "\n",
        "    def hopcroft_karp(self):\n",
        "        \"\"\"Finds the maximum matching in a bipartite graph.\"\"\"\n",
        "        matching_size = 0\n",
        "        while self.bfs():\n",
        "            for u in range(self.left_size):\n",
        "                if self.pair_left[u] == -1 and self.dfs(u):\n",
        "                    matching_size += 1\n",
        "        return matching_size\n",
        "\n",
        "    def get_matching(self):\n",
        "        \"\"\"Returns the matching as a list of pairs (u, v).\"\"\"\n",
        "        return [(u, self.pair_left[u]) for u in range(self.left_size) if self.pair_left[u] != -1]"
      ]
    },
    {
      "cell_type": "code",
      "source": [
        "def test_case_1():\n",
        "    graph = BipartiteGraph(4, 4)\n",
        "    graph.add_edge(0, 0)\n",
        "    graph.add_edge(0, 1)\n",
        "    graph.add_edge(1, 2)\n",
        "    graph.add_edge(2, 1)\n",
        "    graph.add_edge(2, 3)\n",
        "    graph.add_edge(3, 2)\n",
        "\n",
        "    max_matching = graph.hopcroft_karp()\n",
        "    matching_pairs = graph.get_matching()\n",
        "\n",
        "    print(f\"Max Matching Size: {max_matching}\")\n",
        "    print(f\"Matching Pairs: {matching_pairs}\")\n",
        "\n",
        "test_case_1()"
      ],
      "metadata": {
        "colab": {
          "base_uri": "https://localhost:8080/"
        },
        "id": "L8IdhjnbfuEo",
        "outputId": "eecf0f6d-791d-4fbb-adc2-cd7ced020aa5"
      },
      "execution_count": 2,
      "outputs": [
        {
          "output_type": "stream",
          "name": "stdout",
          "text": [
            "Max Matching Size: 3\n",
            "Matching Pairs: [(0, 0), (1, 2), (2, 1)]\n"
          ]
        }
      ]
    },
    {
      "cell_type": "code",
      "source": [
        "def test_case_2():\n",
        "    graph = BipartiteGraph(6, 6)\n",
        "    graph.add_edge(0, 1)\n",
        "    graph.add_edge(0, 2)\n",
        "    graph.add_edge(1, 0)\n",
        "    graph.add_edge(1, 3)\n",
        "    graph.add_edge(2, 4)\n",
        "    graph.add_edge(3, 2)\n",
        "    graph.add_edge(4, 5)\n",
        "    graph.add_edge(5, 3)\n",
        "\n",
        "    max_matching = graph.hopcroft_karp()\n",
        "    matching_pairs = graph.get_matching()\n",
        "\n",
        "    print(f\"Max Matching Size: {max_matching}\")\n",
        "    print(f\"Matching Pairs: {matching_pairs}\")\n",
        "\n",
        "test_case_2()"
      ],
      "metadata": {
        "colab": {
          "base_uri": "https://localhost:8080/"
        },
        "id": "7HPfD-t5fyEK",
        "outputId": "5435917e-dcbe-4912-e6e5-93f9816e058f"
      },
      "execution_count": 3,
      "outputs": [
        {
          "output_type": "stream",
          "name": "stdout",
          "text": [
            "Max Matching Size: 6\n",
            "Matching Pairs: [(0, 1), (1, 0), (2, 4), (3, 2), (4, 5), (5, 3)]\n"
          ]
        }
      ]
    },
    {
      "cell_type": "code",
      "source": [
        "def test_case_3():\n",
        "    graph = BipartiteGraph(4, 4)\n",
        "    for u in range(4):\n",
        "        for v in range(4):\n",
        "            graph.add_edge(u, v)\n",
        "\n",
        "    max_matching = graph.hopcroft_karp()\n",
        "    matching_pairs = graph.get_matching()\n",
        "\n",
        "    print(f\"Max Matching Size: {max_matching}\")\n",
        "    print(f\"Matching Pairs: {matching_pairs}\")\n",
        "\n",
        "test_case_3()"
      ],
      "metadata": {
        "colab": {
          "base_uri": "https://localhost:8080/"
        },
        "id": "Ape_xD5pf3XJ",
        "outputId": "73f15dde-ecfc-46e1-b38f-6ed2cdb682d6"
      },
      "execution_count": 4,
      "outputs": [
        {
          "output_type": "stream",
          "name": "stdout",
          "text": [
            "Max Matching Size: 4\n",
            "Matching Pairs: [(0, 0), (1, 1), (2, 2), (3, 3)]\n"
          ]
        }
      ]
    }
  ]
}